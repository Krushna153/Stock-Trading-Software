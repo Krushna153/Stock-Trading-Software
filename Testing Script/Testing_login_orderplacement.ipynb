{
 "cells": [
  {
   "cell_type": "code",
   "execution_count": 23,
   "metadata": {},
   "outputs": [
    {
     "name": "stdout",
     "output_type": "stream",
     "text": [
      "Back End in login phase millisecond: 363\n",
      "Front End in login phase millisecond: 2517\n",
      "Back End in dashboard millisecond: 16\n",
      "Front End in dashboard millisecond: 4293\n",
      "Back End in order tab millisecond: 16\n",
      "Front End in order tab millisecond: 4293\n"
     ]
    }
   ],
   "source": [
    "import requests,bs4\n",
    "from selenium import webdriver\n",
    "from selenium.webdriver.support.ui import WebDriverWait\n",
    "from selenium.webdriver.common.keys import Keys\n",
    "from selenium.webdriver.chrome.options import Options\n",
    "url=\"http://localhost/welcome.php\"\n",
    "browser = webdriver.Chrome(executable_path='C:\\\\Users\\\\OM\\\\AppData\\\\Local\\\\Programs\\\\Python\\\\Python38-32\\\\chromedriver.exe')\n",
    "browser.get(url)\n",
    "navigationStart = browser.execute_script(\"return window.performance.timing.navigationStart\")\n",
    "responseStart = browser.execute_script(\"return window.performance.timing.responseStart\")\n",
    "domComplete = browser.execute_script(\"return window.performance.timing.domComplete\")\n",
    "\n",
    "backendPerformance_calc = responseStart - navigationStart\n",
    "frontendPerformance_calc = domComplete - responseStart\n",
    " \n",
    "print(\"Back End in login phase millisecond: %s\" % backendPerformance_calc)\n",
    "print(\"Front End in login phase millisecond: %s\" % frontendPerformance_calc)\n",
    "username = WebDriverWait(browser,1).until(lambda browser: browser.find_element_by_id('username'))\n",
    "username.send_keys(\"Mihir\")\n",
    "password = WebDriverWait(browser,1).until(lambda browser: browser.find_element_by_id('password'))\n",
    "password.send_keys(\"yoyomihir\")\n",
    "login = WebDriverWait(browser,1).until(lambda browser: browser.find_element_by_name('submit'))\n",
    "login.click()\n",
    "\n",
    "\n",
    "navigationStart = browser.execute_script(\"return window.performance.timing.navigationStart\")\n",
    "responseStart = browser.execute_script(\"return window.performance.timing.responseStart\")\n",
    "domComplete = browser.execute_script(\"return window.performance.timing.domComplete\")\n",
    "\n",
    "backendPerformance_calc = responseStart - navigationStart\n",
    "frontendPerformance_calc = domComplete - responseStart\n",
    " \n",
    "print(\"Back End in dashboard millisecond: %s\" % backendPerformance_calc)\n",
    "print(\"Front End in dashboard millisecond: %s\" % frontendPerformance_calc)\n",
    "\n",
    "order = WebDriverWait(browser,1).until(lambda browser: browser.find_element_by_id('neworder_tab'))\n",
    "order.click()\n",
    "\n",
    "\n",
    "navigationStart = browser.execute_script(\"return window.performance.timing.navigationStart\")\n",
    "responseStart = browser.execute_script(\"return window.performance.timing.responseStart\")\n",
    "domComplete = browser.execute_script(\"return window.performance.timing.domComplete\")\n",
    "\n",
    "backendPerformance_calc = responseStart - navigationStart\n",
    "frontendPerformance_calc = domComplete - responseStart\n",
    " \n",
    "print(\"Back End in order tab millisecond: %s\" % backendPerformance_calc)\n",
    "print(\"Front End in order tab millisecond: %s\" % frontendPerformance_calc)\n"
   ]
  },
  {
   "cell_type": "code",
   "execution_count": 25,
   "metadata": {},
   "outputs": [
    {
     "name": "stdout",
     "output_type": "stream",
     "text": [
      "Back End in After order placed millisecond: 6\n",
      "Front End in After order placed millisecond: 53\n"
     ]
    }
   ],
   "source": [
    "set_stock_size = WebDriverWait(browser,1).until(lambda browser: browser.find_element_by_name('stocksize'))\n",
    "set_stock_size.send_keys(\"10\")\n",
    "set_MIS = WebDriverWait(browser,4).until(lambda browser: browser.find_element_by_id('MIS'))\n",
    "set_MIS.click() \n",
    "set_order_type = WebDriverWait(browser,4).until(lambda browser: browser.find_element_by_name('order-type'))\n",
    "set_order_type.click()\n",
    "submit = WebDriverWait(browser,4).until(lambda browser: browser.find_element_by_xpath('//*[@id=\"orderform\"]/div[4]/input'))\n",
    "submit.click()\n",
    "\n",
    "\n",
    "alert = browser.switch_to.alert\n",
    "alert.accept()\n",
    "\n",
    "navigationStart = browser.execute_script(\"return window.performance.timing.navigationStart\")\n",
    "responseStart = browser.execute_script(\"return window.performance.timing.responseStart\")\n",
    "domComplete = browser.execute_script(\"return window.performance.timing.domComplete\")\n",
    "\n",
    "backendPerformance_calc = responseStart - navigationStart\n",
    "frontendPerformance_calc = domComplete - responseStart\n",
    " \n",
    "print(\"Back End in After order placed millisecond: %s\" % backendPerformance_calc)\n",
    "print(\"Front End in After order placed millisecond: %s\" % frontendPerformance_calc)\n"
   ]
  },
  {
   "cell_type": "code",
   "execution_count": null,
   "metadata": {},
   "outputs": [],
   "source": []
  },
  {
   "cell_type": "code",
   "execution_count": null,
   "metadata": {},
   "outputs": [],
   "source": []
  }
 ],
 "metadata": {
  "kernelspec": {
   "display_name": "Python 3",
   "language": "python",
   "name": "python3"
  },
  "language_info": {
   "codemirror_mode": {
    "name": "ipython",
    "version": 3
   },
   "file_extension": ".py",
   "mimetype": "text/x-python",
   "name": "python",
   "nbconvert_exporter": "python",
   "pygments_lexer": "ipython3",
   "version": "3.7.4"
  }
 },
 "nbformat": 4,
 "nbformat_minor": 2
}
